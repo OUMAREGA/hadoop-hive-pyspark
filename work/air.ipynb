{
 "cells": [
  {
   "cell_type": "code",
   "execution_count": 1,
   "metadata": {},
   "outputs": [],
   "source": [
    "from pyspark.sql.types import *\n",
    "from pyspark.sql import functions as F\n",
    "from pyspark.sql.types import *\n",
    "from pyspark.sql.functions import udf"
   ]
  },
  {
   "cell_type": "code",
   "execution_count": 2,
   "metadata": {},
   "outputs": [],
   "source": [
    "from pyspark.sql import SparkSession\n",
    "spark = SparkSession.builder.getOrCreate()"
   ]
  },
  {
   "cell_type": "code",
   "execution_count": 3,
   "metadata": {},
   "outputs": [],
   "source": [
    "df = spark.read.format(\"csv\").option(\"header\",True).option(\"separator\",\",\").load(\"hdfs://namenode:9000/user/hadoop/data/air/WHO_AirQuality_Database_2018.csv\")"
   ]
  },
  {
   "cell_type": "code",
   "execution_count": 4,
   "metadata": {},
   "outputs": [
    {
     "data": {
      "text/plain": [
       "pyspark.sql.dataframe.DataFrame"
      ]
     },
     "execution_count": 4,
     "metadata": {},
     "output_type": "execute_result"
    }
   ],
   "source": [
    "type(df)"
   ]
  },
  {
   "cell_type": "code",
   "execution_count": 5,
   "metadata": {},
   "outputs": [
    {
     "name": "stdout",
     "output_type": "stream",
     "text": [
      "root\n",
      " |-- ID WHO city: string (nullable = true)\n",
      " |-- iso3: string (nullable = true)\n",
      " |-- country: string (nullable = true)\n",
      " |-- city: string (nullable = true)\n",
      " |-- pm10: string (nullable = true)\n",
      " |-- Year: string (nullable = true)\n",
      " |-- type_of_stations: string (nullable = true)\n",
      " |-- pm10_type: string (nullable = true)\n",
      " |-- pm25: string (nullable = true)\n",
      " |-- pm25_type: string (nullable = true)\n",
      " |-- reference: string (nullable = true)\n",
      " |-- latitude: string (nullable = true)\n",
      " |-- longitude: string (nullable = true)\n",
      " |-- population: string (nullable = true)\n",
      " |-- wbinc16_text: string (nullable = true)\n",
      " |-- region15: string (nullable = true)\n",
      " |-- date_compiled: string (nullable = true)\n",
      " |-- population_source: string (nullable = true)\n",
      " |-- tempcov_PM10: string (nullable = true)\n",
      " |-- tempcov_PM25: string (nullable = true)\n",
      " |-- latitude_pop: string (nullable = true)\n",
      " |-- longitude_pop: string (nullable = true)\n",
      " |-- Region22: string (nullable = true)\n",
      " |-- region_abbr: string (nullable = true)\n",
      " |-- tempcov_PM10_grad: string (nullable = true)\n",
      " |-- tempcov_PM25_grad: string (nullable = true)\n",
      " |-- conc_pm25: string (nullable = true)\n",
      " |-- color_pm25: string (nullable = true)\n",
      " |-- conc_pm10: string (nullable = true)\n",
      " |-- color_pm10: string (nullable = true)\n",
      "\n"
     ]
    }
   ],
   "source": [
    "df.printSchema()"
   ]
  },
  {
   "cell_type": "code",
   "execution_count": 6,
   "metadata": {},
   "outputs": [
    {
     "name": "stdout",
     "output_type": "stream",
     "text": [
      "+-----------+----+---------+---------------+----------------+----+--------------------+---------+----------------+---------+--------------------+-----------------+----------------+----------+-------------------+--------+-------------+-----------------+------------+------------+------------+-------------+--------------------+-----------+-----------------+-----------------+---------+----------+---------+----------+\n",
      "|ID WHO city|iso3|  country|           city|            pm10|Year|    type_of_stations|pm10_type|            pm25|pm25_type|           reference|         latitude|       longitude|population|       wbinc16_text|region15|date_compiled|population_source|tempcov_PM10|tempcov_PM25|latitude_pop|longitude_pop|            Region22|region_abbr|tempcov_PM10_grad|tempcov_PM25_grad|conc_pm25|color_pm25|conc_pm10|color_pm10|\n",
      "+-----------+----+---------+---------------+----------------+----+--------------------+---------+----------------+---------+--------------------+-----------------+----------------+----------+-------------------+--------+-------------+-----------------+------------+------------+------------+-------------+--------------------+-----------+-----------------+-----------------+---------+----------+---------+----------+\n",
      "|          3| ALB|  Albania|         Tirana|     31.61542142|2013|1 station, traffi...| Measured|     16.06236628| Measured|European Environm...| 41.3302688598633|19.8217716217041|    453509|Upper middle income|  Eur_LM|         2016|               NA|          NA|          NA|          NA|           NA|       Europe (LMIC)| Eur (LMIC)|               NA|               NA|   15-<25|    orange|   30-<50|   darkred|\n",
      "|         15| AUS|Australia|  Central Coast|12.8204622829167|2014|                   -|Converted|             5.5| Measured|http://www.enviro...|-33.2788887023926|151.432495117188|    297713|        High income|  Wpr_HI|         2016|               NA|          NA|          NA|          NA|           NA|Western Pacific (...|  Wpr (HIC)|               NA|               NA|      <10|     green|      <20|     green|\n",
      "|         18| AUS|Australia|      Devonport|14.9183561110304|2013|                   -|Converted|             6.4| Measured|Environment Prote...|-41.1847991943359|146.345993041992|     29050|        High income|  Wpr_HI|         2016|               NA|          NA|          NA|          NA|           NA|Western Pacific (...|  Wpr (HIC)|               NA|               NA|      <10|     green|      <20|     green|\n",
      "|         19| AUS|Australia|        Geelong|            17.5|2014|1 station, Reside...| Measured|7.50752959417486|Converted|EPA Victoria, Env...|-38.1749992370605|144.369003295898|    173450|        High income|  Wpr_HI|         2016|               NA|          NA|          NA|          NA|           NA|Western Pacific (...|  Wpr (HIC)|               NA|               NA|      <10|     green|      <20|     green|\n",
      "|         22| AUS|Australia|         Hobart|14.2190581683258|2013|                   -|Converted|             6.1| Measured|Environment Prote...|-42.8545989990234|147.315002441406|    170977|        High income|  Wpr_HI|         2016|               NA|          NA|          NA|          NA|           NA|Western Pacific (...|  Wpr (HIC)|               NA|               NA|      <10|     green|      <20|     green|\n",
      "|         23| AUS|Australia|La Trobe Valley|           19.95|2014|2 stations, resid...| Measured|             9.8| Measured|http://www.epa.vi...|-38.2210578918457|146.397537231445|     72396|        High income|  Wpr_HI|         2016|               NA|          NA|          NA|          NA|           NA|Western Pacific (...|  Wpr (HIC)|               NA|               NA|      <10|     green|      <20|     green|\n",
      "|         24| AUS|Australia|     Launceston|18.8810444530228|2013|                   -|Converted|             8.1| Measured|Environment Prote...|-41.4174003601074|         147.125|     82222|        High income|  Wpr_HI|         2016|               NA|          NA|          NA|          NA|           NA|Western Pacific (...|  Wpr (HIC)|               NA|               NA|      <10|     green|      <20|     green|\n",
      "|         25| AUS|Australia|   Lower Hunter|17.3270490247905|2014|                   -|Converted|7.43333333333333| Measured|http://www.enviro...|-32.7983322143555|151.660003662109|    620530|        High income|  Wpr_HI|         2016|               NA|          NA|          NA|          NA|           NA|Western Pacific (...|  Wpr (HIC)|               NA|               NA|      <10|     green|      <20|     green|\n",
      "|         27| AUS|Australia|      Melbourne|           18.75|2014|10 stations, Resi...| Measured|             7.7| Measured|http://www.epa.vi...|-37.7810554504395|145.030700683594|   4203416|        High income|  Wpr_HI|         2016|               NA|          NA|          NA|          NA|           NA|Western Pacific (...|  Wpr (HIC)|               NA|               NA|      <10|     green|      <20|     green|\n",
      "|         38| AUS|Australia|   Upper Hunter| 19.658042167139|2014|                   -|Converted|8.43333333333333| Measured|http://www.enviro...|-32.4722213745117|151.091949462891|    620530|        High income|  Wpr_HI|         2016|               NA|          NA|          NA|          NA|           NA|Western Pacific (...|  Wpr (HIC)|               NA|               NA|      <10|     green|      <20|     green|\n",
      "+-----------+----+---------+---------------+----------------+----+--------------------+---------+----------------+---------+--------------------+-----------------+----------------+----------+-------------------+--------+-------------+-----------------+------------+------------+------------+-------------+--------------------+-----------+-----------------+-----------------+---------+----------+---------+----------+\n",
      "only showing top 10 rows\n",
      "\n"
     ]
    }
   ],
   "source": [
    "df.show(10)"
   ]
  },
  {
   "cell_type": "code",
   "execution_count": 7,
   "metadata": {},
   "outputs": [
    {
     "name": "stdout",
     "output_type": "stream",
     "text": [
      "+----+---------+-------------+----------------+----------------+----+----------+\n",
      "|iso3|  country|         city|            pm10|            pm25|Year|population|\n",
      "+----+---------+-------------+----------------+----------------+----+----------+\n",
      "| ALB|  Albania|       Tirana|     31.61542142|     16.06236628|2013|    453509|\n",
      "| AUS|Australia|Central Coast|12.8204622829167|             5.5|2014|    297713|\n",
      "| AUS|Australia|    Devonport|14.9183561110304|             6.4|2013|     29050|\n",
      "| AUS|Australia|      Geelong|            17.5|7.50752959417486|2014|    173450|\n",
      "| AUS|Australia|       Hobart|14.2190581683258|             6.1|2013|    170977|\n",
      "+----+---------+-------------+----------------+----------------+----+----------+\n",
      "only showing top 5 rows\n",
      "\n"
     ]
    }
   ],
   "source": [
    "df = df.select(\"iso3\", \"country\", \"city\", \"pm10\", \"pm25\", \"Year\", \"population\")\n",
    "df.show(5)"
   ]
  },
  {
   "cell_type": "code",
   "execution_count": 8,
   "metadata": {},
   "outputs": [],
   "source": [
    "df = df.withColumn(\"pm10\", df[\"pm10\"].cast(IntegerType()))\n",
    "df = df.withColumn(\"pm25\", df[\"pm25\"].cast(IntegerType()))\n",
    "df = df.withColumn(\"population\", df[\"population\"].cast(IntegerType()))"
   ]
  },
  {
   "cell_type": "code",
   "execution_count": 9,
   "metadata": {},
   "outputs": [
    {
     "name": "stdout",
     "output_type": "stream",
     "text": [
      "root\n",
      " |-- iso3: string (nullable = true)\n",
      " |-- country: string (nullable = true)\n",
      " |-- city: string (nullable = true)\n",
      " |-- pm10: integer (nullable = true)\n",
      " |-- pm25: integer (nullable = true)\n",
      " |-- Year: string (nullable = true)\n",
      " |-- population: integer (nullable = true)\n",
      "\n"
     ]
    }
   ],
   "source": [
    "df.printSchema()"
   ]
  },
  {
   "cell_type": "code",
   "execution_count": 10,
   "metadata": {},
   "outputs": [
    {
     "data": {
      "text/html": [
       "<div>\n",
       "<style scoped>\n",
       "    .dataframe tbody tr th:only-of-type {\n",
       "        vertical-align: middle;\n",
       "    }\n",
       "\n",
       "    .dataframe tbody tr th {\n",
       "        vertical-align: top;\n",
       "    }\n",
       "\n",
       "    .dataframe thead th {\n",
       "        text-align: right;\n",
       "    }\n",
       "</style>\n",
       "<table border=\"1\" class=\"dataframe\">\n",
       "  <thead>\n",
       "    <tr style=\"text-align: right;\">\n",
       "      <th></th>\n",
       "      <th>iso3</th>\n",
       "      <th>country</th>\n",
       "      <th>city</th>\n",
       "      <th>pm10</th>\n",
       "      <th>pm25</th>\n",
       "      <th>Year</th>\n",
       "      <th>population</th>\n",
       "    </tr>\n",
       "  </thead>\n",
       "  <tbody>\n",
       "    <tr>\n",
       "      <th>0</th>\n",
       "      <td>ALB</td>\n",
       "      <td>Albania</td>\n",
       "      <td>Tirana</td>\n",
       "      <td>31.0</td>\n",
       "      <td>16.0</td>\n",
       "      <td>2013</td>\n",
       "      <td>453509.0</td>\n",
       "    </tr>\n",
       "    <tr>\n",
       "      <th>1</th>\n",
       "      <td>AUS</td>\n",
       "      <td>Australia</td>\n",
       "      <td>Central Coast</td>\n",
       "      <td>12.0</td>\n",
       "      <td>5.0</td>\n",
       "      <td>2014</td>\n",
       "      <td>297713.0</td>\n",
       "    </tr>\n",
       "    <tr>\n",
       "      <th>2</th>\n",
       "      <td>AUS</td>\n",
       "      <td>Australia</td>\n",
       "      <td>Devonport</td>\n",
       "      <td>14.0</td>\n",
       "      <td>6.0</td>\n",
       "      <td>2013</td>\n",
       "      <td>29050.0</td>\n",
       "    </tr>\n",
       "    <tr>\n",
       "      <th>3</th>\n",
       "      <td>AUS</td>\n",
       "      <td>Australia</td>\n",
       "      <td>Geelong</td>\n",
       "      <td>17.0</td>\n",
       "      <td>7.0</td>\n",
       "      <td>2014</td>\n",
       "      <td>173450.0</td>\n",
       "    </tr>\n",
       "    <tr>\n",
       "      <th>4</th>\n",
       "      <td>AUS</td>\n",
       "      <td>Australia</td>\n",
       "      <td>Hobart</td>\n",
       "      <td>14.0</td>\n",
       "      <td>6.0</td>\n",
       "      <td>2013</td>\n",
       "      <td>170977.0</td>\n",
       "    </tr>\n",
       "    <tr>\n",
       "      <th>...</th>\n",
       "      <td>...</td>\n",
       "      <td>...</td>\n",
       "      <td>...</td>\n",
       "      <td>...</td>\n",
       "      <td>...</td>\n",
       "      <td>...</td>\n",
       "      <td>...</td>\n",
       "    </tr>\n",
       "    <tr>\n",
       "      <th>11971</th>\n",
       "      <td>SAU</td>\n",
       "      <td>Saudi Arabia</td>\n",
       "      <td>Riyadh</td>\n",
       "      <td>201.0</td>\n",
       "      <td>51.0</td>\n",
       "      <td>2014</td>\n",
       "      <td>6369710.0</td>\n",
       "    </tr>\n",
       "    <tr>\n",
       "      <th>11972</th>\n",
       "      <td>SAU</td>\n",
       "      <td>Saudi Arabia</td>\n",
       "      <td>Riyadh</td>\n",
       "      <td>240.0</td>\n",
       "      <td>69.0</td>\n",
       "      <td>2015</td>\n",
       "      <td>6369710.0</td>\n",
       "    </tr>\n",
       "    <tr>\n",
       "      <th>11973</th>\n",
       "      <td>SAU</td>\n",
       "      <td>Saudi Arabia</td>\n",
       "      <td>Riyadh</td>\n",
       "      <td>251.0</td>\n",
       "      <td>73.0</td>\n",
       "      <td>2016</td>\n",
       "      <td>6369710.0</td>\n",
       "    </tr>\n",
       "    <tr>\n",
       "      <th>11974</th>\n",
       "      <td>SAU</td>\n",
       "      <td>Saudi Arabia</td>\n",
       "      <td>Dammam</td>\n",
       "      <td>260.0</td>\n",
       "      <td>61.0</td>\n",
       "      <td>2015</td>\n",
       "      <td>1073788.0</td>\n",
       "    </tr>\n",
       "    <tr>\n",
       "      <th>11975</th>\n",
       "      <td>SAU</td>\n",
       "      <td>Saudi Arabia</td>\n",
       "      <td>Dammam</td>\n",
       "      <td>161.0</td>\n",
       "      <td>56.0</td>\n",
       "      <td>2016</td>\n",
       "      <td>1073788.0</td>\n",
       "    </tr>\n",
       "  </tbody>\n",
       "</table>\n",
       "<p>11976 rows × 7 columns</p>\n",
       "</div>"
      ],
      "text/plain": [
       "      iso3       country           city   pm10  pm25  Year  population\n",
       "0      ALB       Albania         Tirana   31.0  16.0  2013    453509.0\n",
       "1      AUS     Australia  Central Coast   12.0   5.0  2014    297713.0\n",
       "2      AUS     Australia      Devonport   14.0   6.0  2013     29050.0\n",
       "3      AUS     Australia        Geelong   17.0   7.0  2014    173450.0\n",
       "4      AUS     Australia         Hobart   14.0   6.0  2013    170977.0\n",
       "...    ...           ...            ...    ...   ...   ...         ...\n",
       "11971  SAU  Saudi Arabia         Riyadh  201.0  51.0  2014   6369710.0\n",
       "11972  SAU  Saudi Arabia         Riyadh  240.0  69.0  2015   6369710.0\n",
       "11973  SAU  Saudi Arabia         Riyadh  251.0  73.0  2016   6369710.0\n",
       "11974  SAU  Saudi Arabia         Dammam  260.0  61.0  2015   1073788.0\n",
       "11975  SAU  Saudi Arabia         Dammam  161.0  56.0  2016   1073788.0\n",
       "\n",
       "[11976 rows x 7 columns]"
      ]
     },
     "execution_count": 10,
     "metadata": {},
     "output_type": "execute_result"
    }
   ],
   "source": [
    "df_toPandas = df.toPandas()\n",
    "df_toPandas"
   ]
  },
  {
   "cell_type": "code",
   "execution_count": 11,
   "metadata": {
    "scrolled": true
   },
   "outputs": [],
   "source": [
    "df.write.csv(\"hdfs://namenode:9000/user/hadoop/data/air/air-data.csv\")"
   ]
  },
  {
   "cell_type": "code",
   "execution_count": null,
   "metadata": {},
   "outputs": [],
   "source": []
  }
 ],
 "metadata": {
  "kernelspec": {
   "display_name": "Python 3 (ipykernel)",
   "language": "python",
   "name": "python3"
  },
  "language_info": {
   "codemirror_mode": {
    "name": "ipython",
    "version": 3
   },
   "file_extension": ".py",
   "mimetype": "text/x-python",
   "name": "python",
   "nbconvert_exporter": "python",
   "pygments_lexer": "ipython3",
   "version": "3.9.7"
  }
 },
 "nbformat": 4,
 "nbformat_minor": 4
}
